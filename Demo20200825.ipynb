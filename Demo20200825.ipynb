{
  "nbformat": 4,
  "nbformat_minor": 0,
  "metadata": {
    "colab": {
      "name": "Demo20200825.ipynb",
      "provenance": [],
      "collapsed_sections": []
    },
    "kernelspec": {
      "name": "python3",
      "display_name": "Python 3"
    }
  },
  "cells": [
    {
      "cell_type": "code",
      "metadata": {
        "id": "KF6ulgGlI8Yy",
        "colab_type": "code",
        "colab": {
          "base_uri": "https://localhost:8080/",
          "height": 69
        },
        "outputId": "d9009833-43ef-4fc4-a80b-66f6211a1de6"
      },
      "source": [
        "import requests\n",
        "res = requests.get('https://www.taipower.com.tw/d006/Meter/js/loadpara.js')\n",
        "res.text"
      ],
      "execution_count": 2,
      "outputs": [
        {
          "output_type": "execute_result",
          "data": {
            "application/vnd.google.colaboratory.intrinsic+json": {
              "type": "string"
            },
            "text/plain": [
              "'var colrs = [\"#33CC33\", \"#FFCC00\", \"#FF0000\"]; // Green, Yellow, Red\\r\\nvar loadInfo = [\\r\\n\"3,392.8\",\\r\\n\"3,700.0\",\\r\\n\"4,088.7\",\\r\\n\"109.08.25(二)09:20更新\"\\r\\n]\\r\\n<!--Current System Load-->\\r\\n<!--109-8-25 9:20-->\\r\\n'"
            ]
          },
          "metadata": {
            "tags": []
          },
          "execution_count": 2
        }
      ]
    },
    {
      "cell_type": "code",
      "metadata": {
        "id": "vO6Q4TuJM_-J",
        "colab_type": "code",
        "colab": {
          "base_uri": "https://localhost:8080/",
          "height": 35
        },
        "outputId": "2b2099eb-75f8-4609-e5cc-03ccc7345390"
      },
      "source": [
        "res.text.split('Info = [')[1].split(']')[0].split('\\r\\n')[1]"
      ],
      "execution_count": 9,
      "outputs": [
        {
          "output_type": "execute_result",
          "data": {
            "application/vnd.google.colaboratory.intrinsic+json": {
              "type": "string"
            },
            "text/plain": [
              "'\"3,392.8\",'"
            ]
          },
          "metadata": {
            "tags": []
          },
          "execution_count": 9
        }
      ]
    },
    {
      "cell_type": "code",
      "metadata": {
        "id": "RZXP16o9NW-m",
        "colab_type": "code",
        "colab": {
          "base_uri": "https://localhost:8080/",
          "height": 34
        },
        "outputId": "d8064702-9f83-4146-cbe4-0a5b5e7ae7e2"
      },
      "source": [
        "eval(res.text.split('Info = ')[1].split('<!')[0])"
      ],
      "execution_count": 12,
      "outputs": [
        {
          "output_type": "execute_result",
          "data": {
            "text/plain": [
              "['3,392.8', '3,700.0', '4,088.7', '109.08.25(二)09:20更新']"
            ]
          },
          "metadata": {
            "tags": []
          },
          "execution_count": 12
        }
      ]
    },
    {
      "cell_type": "code",
      "metadata": {
        "id": "5C0l5nJkOfoN",
        "colab_type": "code",
        "colab": {}
      },
      "source": [
        "import requests\n",
        "fueltype = requests.get('https://www.taipower.com.tw/d006/loadGraph/loadGraph/data/loadfueltype.csv')\n",
        "#fueltype.text"
      ],
      "execution_count": 22,
      "outputs": []
    },
    {
      "cell_type": "code",
      "metadata": {
        "id": "_-rvgrE3VqZa",
        "colab_type": "code",
        "colab": {}
      },
      "source": [
        "import requests\n",
        "fueltype1 = requests.get('https://www.taipower.com.tw/d006/loadGraph/loadGraph/data/loadfueltype_1.csv')\n",
        "#fueltype1.text"
      ],
      "execution_count": 16,
      "outputs": []
    },
    {
      "cell_type": "code",
      "metadata": {
        "id": "Zxs9l_00VzcG",
        "colab_type": "code",
        "colab": {
          "base_uri": "https://localhost:8080/",
          "height": 34
        },
        "outputId": "49bfe852-fc08-4bd6-e9dd-10ec3dbdc3a4"
      },
      "source": [
        "a = \"00:00,383.1,928.4,125.7,281.0,910.2,0.0,26.2,0.0,20.3,13.8,0.0,30.5,-0.5,0.0\"\n",
        "len(a.split(','))"
      ],
      "execution_count": 19,
      "outputs": [
        {
          "output_type": "execute_result",
          "data": {
            "text/plain": [
              "15"
            ]
          },
          "metadata": {
            "tags": []
          },
          "execution_count": 19
        }
      ]
    },
    {
      "cell_type": "code",
      "metadata": {
        "id": "QJfLuR3Pakdz",
        "colab_type": "code",
        "colab": {
          "base_uri": "https://localhost:8080/",
          "height": 34
        },
        "outputId": "1ce4ff5a-2644-42da-ac14-13bc95db1f08"
      },
      "source": [
        "valueSum = 0\n",
        "for pop in a.split(',')[1:14]:\n",
        "  valueSum += float(pop)\n",
        "round(valueSum,1)"
      ],
      "execution_count": 21,
      "outputs": [
        {
          "output_type": "execute_result",
          "data": {
            "text/plain": [
              "2718.7"
            ]
          },
          "metadata": {
            "tags": []
          },
          "execution_count": 21
        }
      ]
    },
    {
      "cell_type": "code",
      "metadata": {
        "id": "XezAKDmSa8kD",
        "colab_type": "code",
        "colab": {}
      },
      "source": [
        "import requests\n",
        "fueltype = requests.get('https://www.taipower.com.tw/d006/loadGraph/loadGraph/data/loadfueltype.csv')\n"
      ],
      "execution_count": 23,
      "outputs": []
    },
    {
      "cell_type": "code",
      "metadata": {
        "id": "5EsxZPUpbIHT",
        "colab_type": "code",
        "colab": {}
      },
      "source": [
        "rows = fueltype.text.split('\\r\\n')\n",
        "dataProvider = []\n",
        "for row in rows:\n",
        "  valueSum = 0\n",
        "  fields = row.split(',')\n",
        "  if len(fields) == 15:\n",
        "    for pop in fields[1:14]:\n",
        "      valueSum += float(pop)\n",
        "    dataProvider.append({'dt':fields[0],'value':round(valueSum,1)})"
      ],
      "execution_count": 28,
      "outputs": []
    },
    {
      "cell_type": "code",
      "metadata": {
        "id": "9J-IYl_EbJB7",
        "colab_type": "code",
        "colab": {}
      },
      "source": [
        "import pandas\n",
        "today_power = pandas.DataFrame(dataProvider)"
      ],
      "execution_count": 30,
      "outputs": []
    },
    {
      "cell_type": "code",
      "metadata": {
        "id": "UZgKn8XQb27W",
        "colab_type": "code",
        "colab": {
          "base_uri": "https://localhost:8080/",
          "height": 417
        },
        "outputId": "c463e1b6-523e-481a-9833-ef149c438132"
      },
      "source": [
        "today_power"
      ],
      "execution_count": 31,
      "outputs": [
        {
          "output_type": "execute_result",
          "data": {
            "text/html": [
              "<div>\n",
              "<style scoped>\n",
              "    .dataframe tbody tr th:only-of-type {\n",
              "        vertical-align: middle;\n",
              "    }\n",
              "\n",
              "    .dataframe tbody tr th {\n",
              "        vertical-align: top;\n",
              "    }\n",
              "\n",
              "    .dataframe thead th {\n",
              "        text-align: right;\n",
              "    }\n",
              "</style>\n",
              "<table border=\"1\" class=\"dataframe\">\n",
              "  <thead>\n",
              "    <tr style=\"text-align: right;\">\n",
              "      <th></th>\n",
              "      <th>dt</th>\n",
              "      <th>value</th>\n",
              "    </tr>\n",
              "  </thead>\n",
              "  <tbody>\n",
              "    <tr>\n",
              "      <th>0</th>\n",
              "      <td>00:00</td>\n",
              "      <td>3007.4</td>\n",
              "    </tr>\n",
              "    <tr>\n",
              "      <th>1</th>\n",
              "      <td>00:10</td>\n",
              "      <td>2993.2</td>\n",
              "    </tr>\n",
              "    <tr>\n",
              "      <th>2</th>\n",
              "      <td>00:20</td>\n",
              "      <td>2938.5</td>\n",
              "    </tr>\n",
              "    <tr>\n",
              "      <th>3</th>\n",
              "      <td>00:30</td>\n",
              "      <td>2924.1</td>\n",
              "    </tr>\n",
              "    <tr>\n",
              "      <th>4</th>\n",
              "      <td>00:40</td>\n",
              "      <td>2897.8</td>\n",
              "    </tr>\n",
              "    <tr>\n",
              "      <th>...</th>\n",
              "      <td>...</td>\n",
              "      <td>...</td>\n",
              "    </tr>\n",
              "    <tr>\n",
              "      <th>57</th>\n",
              "      <td>09:30</td>\n",
              "      <td>3379.3</td>\n",
              "    </tr>\n",
              "    <tr>\n",
              "      <th>58</th>\n",
              "      <td>09:40</td>\n",
              "      <td>3392.5</td>\n",
              "    </tr>\n",
              "    <tr>\n",
              "      <th>59</th>\n",
              "      <td>09:50</td>\n",
              "      <td>3416.3</td>\n",
              "    </tr>\n",
              "    <tr>\n",
              "      <th>60</th>\n",
              "      <td>10:00</td>\n",
              "      <td>3409.3</td>\n",
              "    </tr>\n",
              "    <tr>\n",
              "      <th>61</th>\n",
              "      <td>10:10</td>\n",
              "      <td>3419.5</td>\n",
              "    </tr>\n",
              "  </tbody>\n",
              "</table>\n",
              "<p>62 rows × 2 columns</p>\n",
              "</div>"
            ],
            "text/plain": [
              "       dt   value\n",
              "0   00:00  3007.4\n",
              "1   00:10  2993.2\n",
              "2   00:20  2938.5\n",
              "3   00:30  2924.1\n",
              "4   00:40  2897.8\n",
              "..    ...     ...\n",
              "57  09:30  3379.3\n",
              "58  09:40  3392.5\n",
              "59  09:50  3416.3\n",
              "60  10:00  3409.3\n",
              "61  10:10  3419.5\n",
              "\n",
              "[62 rows x 2 columns]"
            ]
          },
          "metadata": {
            "tags": []
          },
          "execution_count": 31
        }
      ]
    },
    {
      "cell_type": "code",
      "metadata": {
        "id": "i4lp3X5ab_8V",
        "colab_type": "code",
        "colab": {
          "base_uri": "https://localhost:8080/",
          "height": 296
        },
        "outputId": "e44c721e-614d-4ba3-acb0-b7022650f2c0"
      },
      "source": [
        "today_power.plot(kind = 'line', x = 'dt', y= 'value')"
      ],
      "execution_count": 32,
      "outputs": [
        {
          "output_type": "execute_result",
          "data": {
            "text/plain": [
              "<matplotlib.axes._subplots.AxesSubplot at 0x7f7a78362908>"
            ]
          },
          "metadata": {
            "tags": []
          },
          "execution_count": 32
        },
        {
          "output_type": "display_data",
          "data": {
            "image/png": "[encoded data removed]",
            "text/plain": [
              "<Figure size 432x288 with 1 Axes>"
            ]
          },
          "metadata": {
            "tags": [],
            "needs_background": "light"
          }
        }
      ]
    },
    {
      "cell_type": "code",
      "metadata": {
        "id": "d56oFXqScFl2",
        "colab_type": "code",
        "colab": {}
      },
      "source": [
        "import requests\n",
        "fueltype1 = requests.get('https://www.taipower.com.tw/d006/loadGraph/loadGraph/data/loadfueltype_1.csv')\n"
      ],
      "execution_count": 34,
      "outputs": []
    },
    {
      "cell_type": "code",
      "metadata": {
        "id": "7hf3ccTYcPgl",
        "colab_type": "code",
        "colab": {
          "base_uri": "https://localhost:8080/",
          "height": 35
        },
        "outputId": "5401e603-b795-452e-8628-4fab2b0d1c0e"
      },
      "source": [
        "rows = fueltype1.text.split('\\r\\n')\n",
        "rows[0]"
      ],
      "execution_count": 37,
      "outputs": [
        {
          "output_type": "execute_result",
          "data": {
            "application/vnd.google.colaboratory.intrinsic+json": {
              "type": "string"
            },
            "text/plain": [
              "'00:00,383.1,928.4,125.7,281.0,910.2,0.0,26.2,0.0,20.3,13.8,0.0,30.5,-0.5,0.0'"
            ]
          },
          "metadata": {
            "tags": []
          },
          "execution_count": 37
        }
      ]
    },
    {
      "cell_type": "code",
      "metadata": {
        "id": "H5uaaHZzcbFt",
        "colab_type": "code",
        "colab": {}
      },
      "source": [
        "dataProvider = []\n",
        "for row in rows:\n",
        "  valueSum = 0\n",
        "  fields = row.split(',')\n",
        "  if len(fields) == 15:\n",
        "    for pop in fields[1:14]:\n",
        "      valueSum += float(pop)\n",
        "    dataProvider.append({'dt':fields[0],'value':round(valueSum,1)})\n"
      ],
      "execution_count": 40,
      "outputs": []
    },
    {
      "cell_type": "code",
      "metadata": {
        "id": "4VwBE2jNc3-N",
        "colab_type": "code",
        "colab": {}
      },
      "source": [
        "import pandas\n",
        "yesterday_power = pandas.DataFrame(dataProvider)"
      ],
      "execution_count": 42,
      "outputs": []
    },
    {
      "cell_type": "code",
      "metadata": {
        "id": "22MOxbErc4xl",
        "colab_type": "code",
        "colab": {
          "base_uri": "https://localhost:8080/",
          "height": 417
        },
        "outputId": "456d67ce-405d-46e0-ea39-3ed40953f443"
      },
      "source": [
        "yesterday_power"
      ],
      "execution_count": 43,
      "outputs": [
        {
          "output_type": "execute_result",
          "data": {
            "text/html": [
              "<div>\n",
              "<style scoped>\n",
              "    .dataframe tbody tr th:only-of-type {\n",
              "        vertical-align: middle;\n",
              "    }\n",
              "\n",
              "    .dataframe tbody tr th {\n",
              "        vertical-align: top;\n",
              "    }\n",
              "\n",
              "    .dataframe thead th {\n",
              "        text-align: right;\n",
              "    }\n",
              "</style>\n",
              "<table border=\"1\" class=\"dataframe\">\n",
              "  <thead>\n",
              "    <tr style=\"text-align: right;\">\n",
              "      <th></th>\n",
              "      <th>dt</th>\n",
              "      <th>value</th>\n",
              "    </tr>\n",
              "  </thead>\n",
              "  <tbody>\n",
              "    <tr>\n",
              "      <th>0</th>\n",
              "      <td>00:00</td>\n",
              "      <td>2718.7</td>\n",
              "    </tr>\n",
              "    <tr>\n",
              "      <th>1</th>\n",
              "      <td>00:10</td>\n",
              "      <td>2700.3</td>\n",
              "    </tr>\n",
              "    <tr>\n",
              "      <th>2</th>\n",
              "      <td>00:20</td>\n",
              "      <td>2690.2</td>\n",
              "    </tr>\n",
              "    <tr>\n",
              "      <th>3</th>\n",
              "      <td>00:30</td>\n",
              "      <td>2649.9</td>\n",
              "    </tr>\n",
              "    <tr>\n",
              "      <th>4</th>\n",
              "      <td>00:40</td>\n",
              "      <td>2640.4</td>\n",
              "    </tr>\n",
              "    <tr>\n",
              "      <th>...</th>\n",
              "      <td>...</td>\n",
              "      <td>...</td>\n",
              "    </tr>\n",
              "    <tr>\n",
              "      <th>139</th>\n",
              "      <td>23:10</td>\n",
              "      <td>3150.6</td>\n",
              "    </tr>\n",
              "    <tr>\n",
              "      <th>140</th>\n",
              "      <td>23:20</td>\n",
              "      <td>3107.0</td>\n",
              "    </tr>\n",
              "    <tr>\n",
              "      <th>141</th>\n",
              "      <td>23:30</td>\n",
              "      <td>3084.5</td>\n",
              "    </tr>\n",
              "    <tr>\n",
              "      <th>142</th>\n",
              "      <td>23:40</td>\n",
              "      <td>3053.2</td>\n",
              "    </tr>\n",
              "    <tr>\n",
              "      <th>143</th>\n",
              "      <td>23:50</td>\n",
              "      <td>3046.5</td>\n",
              "    </tr>\n",
              "  </tbody>\n",
              "</table>\n",
              "<p>144 rows × 2 columns</p>\n",
              "</div>"
            ],
            "text/plain": [
              "        dt   value\n",
              "0    00:00  2718.7\n",
              "1    00:10  2700.3\n",
              "2    00:20  2690.2\n",
              "3    00:30  2649.9\n",
              "4    00:40  2640.4\n",
              "..     ...     ...\n",
              "139  23:10  3150.6\n",
              "140  23:20  3107.0\n",
              "141  23:30  3084.5\n",
              "142  23:40  3053.2\n",
              "143  23:50  3046.5\n",
              "\n",
              "[144 rows x 2 columns]"
            ]
          },
          "metadata": {
            "tags": []
          },
          "execution_count": 43
        }
      ]
    },
    {
      "cell_type": "code",
      "metadata": {
        "id": "6CsA7po0dI7u",
        "colab_type": "code",
        "colab": {
          "base_uri": "https://localhost:8080/",
          "height": 296
        },
        "outputId": "8f2a8719-39f0-4307-9a82-2474e2751539"
      },
      "source": [
        "yesterday_power.plot(kind = 'line', x = 'dt', y = 'value')"
      ],
      "execution_count": 44,
      "outputs": [
        {
          "output_type": "execute_result",
          "data": {
            "text/plain": [
              "<matplotlib.axes._subplots.AxesSubplot at 0x7f7a7845e940>"
            ]
          },
          "metadata": {
            "tags": []
          },
          "execution_count": 44
        },
        {
          "output_type": "display_data",
          "data": {
            "image/png": "[encoded data removed]",
            "text/plain": [
              "<Figure size 432x288 with 1 Axes>"
            ]
          },
          "metadata": {
            "tags": [],
            "needs_background": "light"
          }
        }
      ]
    },
    {
      "cell_type": "code",
      "metadata": {
        "id": "fihdas3LdNrt",
        "colab_type": "code",
        "colab": {}
      },
      "source": [
        "taipower = pandas.merge(today_power, yesterday_power, how = 'outer', on = 'dt')"
      ],
      "execution_count": 46,
      "outputs": []
    },
    {
      "cell_type": "code",
      "metadata": {
        "id": "a1wceaJXdf_X",
        "colab_type": "code",
        "colab": {}
      },
      "source": [
        "taipower.columns = ['time', 'today_power', 'yesterday_power']"
      ],
      "execution_count": 48,
      "outputs": []
    },
    {
      "cell_type": "code",
      "metadata": {
        "id": "nsJUL2TLdkuO",
        "colab_type": "code",
        "colab": {
          "base_uri": "https://localhost:8080/",
          "height": 203
        },
        "outputId": "5f6d4f3a-ccd6-4bce-e1a2-fd88bd8ca452"
      },
      "source": [
        "taipower.head()"
      ],
      "execution_count": 49,
      "outputs": [
        {
          "output_type": "execute_result",
          "data": {
            "text/html": [
              "<div>\n",
              "<style scoped>\n",
              "    .dataframe tbody tr th:only-of-type {\n",
              "        vertical-align: middle;\n",
              "    }\n",
              "\n",
              "    .dataframe tbody tr th {\n",
              "        vertical-align: top;\n",
              "    }\n",
              "\n",
              "    .dataframe thead th {\n",
              "        text-align: right;\n",
              "    }\n",
              "</style>\n",
              "<table border=\"1\" class=\"dataframe\">\n",
              "  <thead>\n",
              "    <tr style=\"text-align: right;\">\n",
              "      <th></th>\n",
              "      <th>time</th>\n",
              "      <th>today_power</th>\n",
              "      <th>yesterday_power</th>\n",
              "    </tr>\n",
              "  </thead>\n",
              "  <tbody>\n",
              "    <tr>\n",
              "      <th>0</th>\n",
              "      <td>00:00</td>\n",
              "      <td>3007.4</td>\n",
              "      <td>2718.7</td>\n",
              "    </tr>\n",
              "    <tr>\n",
              "      <th>1</th>\n",
              "      <td>00:10</td>\n",
              "      <td>2993.2</td>\n",
              "      <td>2700.3</td>\n",
              "    </tr>\n",
              "    <tr>\n",
              "      <th>2</th>\n",
              "      <td>00:20</td>\n",
              "      <td>2938.5</td>\n",
              "      <td>2690.2</td>\n",
              "    </tr>\n",
              "    <tr>\n",
              "      <th>3</th>\n",
              "      <td>00:30</td>\n",
              "      <td>2924.1</td>\n",
              "      <td>2649.9</td>\n",
              "    </tr>\n",
              "    <tr>\n",
              "      <th>4</th>\n",
              "      <td>00:40</td>\n",
              "      <td>2897.8</td>\n",
              "      <td>2640.4</td>\n",
              "    </tr>\n",
              "  </tbody>\n",
              "</table>\n",
              "</div>"
            ],
            "text/plain": [
              "    time  today_power  yesterday_power\n",
              "0  00:00       3007.4           2718.7\n",
              "1  00:10       2993.2           2700.3\n",
              "2  00:20       2938.5           2690.2\n",
              "3  00:30       2924.1           2649.9\n",
              "4  00:40       2897.8           2640.4"
            ]
          },
          "metadata": {
            "tags": []
          },
          "execution_count": 49
        }
      ]
    },
    {
      "cell_type": "code",
      "metadata": {
        "id": "xjrkuT8Hdvrn",
        "colab_type": "code",
        "colab": {}
      },
      "source": [
        "taipower.set_index('time', inplace=True, drop=True)"
      ],
      "execution_count": 52,
      "outputs": []
    },
    {
      "cell_type": "code",
      "metadata": {
        "id": "Tgq5yeZHd3pu",
        "colab_type": "code",
        "colab": {
          "base_uri": "https://localhost:8080/",
          "height": 361
        },
        "outputId": "a49e8219-77c6-48c1-b8c9-410653532114"
      },
      "source": [
        "taipower.plot(kind='line', grid=True, figsize = [20,10], title='power supply comparison' )"
      ],
      "execution_count": 58,
      "outputs": [
        {
          "output_type": "execute_result",
          "data": {
            "text/plain": [
              "<matplotlib.axes._subplots.AxesSubplot at 0x7f7a75e3ff98>"
            ]
          },
          "metadata": {
            "tags": []
          },
          "execution_count": 58
        },
        {
          "output_type": "display_data",
          "data": {
            "image/png": "[encoded data removed]",
            "text/plain": [
              "<Figure size 1440x720 with 1 Axes>"
            ]
          },
          "metadata": {
            "tags": [],
            "needs_background": "light"
          }
        }
      ]
    },
    {
      "cell_type": "code",
      "metadata": {
        "id": "JqFGeMrJeFAO",
        "colab_type": "code",
        "colab": {
          "base_uri": "https://localhost:8080/",
          "height": 542
        },
        "outputId": "6918e609-74cb-40ac-da47-4b5c5e24bd61"
      },
      "source": [
        "import plotly.express as px\n",
        "\n",
        "fig = px.line(taipower, x=taipower.index, y=\"today_power\")\n",
        "fig.add_scatter(x=taipower.index, y=taipower['yesterday_power'], mode='lines')\n",
        "fig.show()"
      ],
      "execution_count": 70,
      "outputs": [
        {
          "output_type": "display_data",
          "data": {
            "text/html": [
              "<html>\n",
              "<head><meta charset=\"utf-8\" /></head>\n",
              "<body>\n",
              "    <div>\n",
              "            <script src=\"https://cdnjs.cloudflare.com/ajax/libs/mathjax/2.7.5/MathJax.js?config=TeX-AMS-MML_SVG\"></script><script type=\"text/javascript\">if (window.MathJax) {MathJax.Hub.Config({SVG: {font: \"STIX-Web\"}});}</script>\n",
              "                <script type=\"text/javascript\">window.PlotlyConfig = {MathJaxConfig: 'local'};</script>\n",
              "        <script src=\"https://cdn.plot.ly/plotly-latest.min.js\"></script>    \n",
              "            <div id=\"2001a3f4-9c56-489c-9a04-91669b186c2f\" class=\"plotly-graph-div\" style=\"height:525px; width:100%;\"></div>\n",
              "            <script type=\"text/javascript\">\n",
              "                \n",
              "                    window.PLOTLYENV=window.PLOTLYENV || {};\n",
              "                    \n",
              "                if (document.getElementById(\"2001a3f4-9c56-489c-9a04-91669b186c2f\")) {\n",
              "                    Plotly.newPlot(\n",
              "                        '2001a3f4-9c56-489c-9a04-91669b186c2f',\n",
              "                        [{\"hoverlabel\": {\"namelength\": 0}, \"hovertemplate\": \"x=%{x}<br>today_power=%{y}\", \"legendgroup\": \"\", \"line\": {\"color\": \"#636efa\", \"dash\": \"solid\"}, \"mode\": \"lines\", \"name\": \"\", \"showlegend\": false, \"type\": \"scatter\", \"x\": [\"00:00\", \"00:10\", \"00:20\", \"00:30\", \"00:40\", \"00:50\", \"01:00\", \"01:10\", \"01:20\", \"01:30\", \"01:40\", \"01:50\", \"02:00\", \"02:10\", \"02:20\", \"02:30\", \"02:40\", \"02:50\", \"03:00\", \"03:10\", \"03:20\", \"03:30\", \"03:40\", \"03:50\", \"04:00\", \"04:10\", \"04:20\", \"04:30\", \"04:40\", \"04:50\", \"05:00\", \"05:10\", \"05:20\", \"05:30\", \"05:40\", \"05:50\", \"06:00\", \"06:10\", \"06:20\", \"06:30\", \"06:40\", \"06:50\", \"07:00\", \"07:10\", \"07:20\", \"07:30\", \"07:40\", \"07:50\", \"08:00\", \"08:10\", \"08:20\", \"08:30\", \"08:40\", \"08:50\", \"09:00\", \"09:10\", \"09:20\", \"09:30\", \"09:40\", \"09:50\", \"10:00\", \"10:10\", \"10:20\", \"10:30\", \"10:40\", \"10:50\", \"11:00\", \"11:10\", \"11:20\", \"11:30\", \"11:40\", \"11:50\", \"12:00\", \"12:10\", \"12:20\", \"12:30\", \"12:40\", \"12:50\", \"13:00\", \"13:10\", \"13:20\", \"13:30\", \"13:40\", \"13:50\", \"14:00\", \"14:10\", \"14:20\", \"14:30\", \"14:40\", \"14:50\", \"15:00\", \"15:10\", \"15:20\", \"15:30\", \"15:40\", \"15:50\", \"16:00\", \"16:10\", \"16:20\", \"16:30\", \"16:40\", \"16:50\", \"17:00\", \"17:10\", \"17:20\", \"17:30\", \"17:40\", \"17:50\", \"18:00\", \"18:10\", \"18:20\", \"18:30\", \"18:40\", \"18:50\", \"19:00\", \"19:10\", \"19:20\", \"19:30\", \"19:40\", \"19:50\", \"20:00\", \"20:10\", \"20:20\", \"20:30\", \"20:40\", \"20:50\", \"21:00\", \"21:10\", \"21:20\", \"21:30\", \"21:40\", \"21:50\", \"22:00\", \"22:10\", \"22:20\", \"22:30\", \"22:40\", \"22:50\", \"23:00\", \"23:10\", \"23:20\", \"23:30\", \"23:40\", \"23:50\"], \"xaxis\": \"x\", \"y\": [3007.4, 2993.2, 2938.5, 2924.1, 2897.8, 2874.1, 2847.7, 2842.4, 2801.5, 2794.8, 2782.7, 2765.9, 2756.5, 2719.2, 2705.8, 2722.6, 2693.5, 2682.7, 2662.6, 2664.5, 2647.7, 2623.2, 2612.5, 2596.0, 2583.4, 2603.1, 2575.7, 2567.9, 2566.8, 2567.6, 2570.6, 2550.4, 2554.0, 2555.5, 2519.3, 2530.5, 2542.3, 2544.4, 2564.4, 2565.9, 2574.5, 2606.7, 2625.0, 2644.9, 2687.8, 2702.5, 2771.8, 2836.5, 2979.4, 3072.9, 3158.2, 3202.9, 3252.9, 3292.9, 3315.6, 3360.7, 3392.9, 3379.3, 3392.5, 3416.3, 3409.3, 3419.5, null, null, null, null, null, null, null, null, null, null, null, null, null, null, null, null, null, null, null, null, null, null, null, null, null, null, null, null, null, null, null, null, null, null, null, null, null, null, null, null, null, null, null, null, null, null, null, null, null, null, null, null, null, null, null, null, null, null, null, null, null, null, null, null, null, null, null, null, null, null, null, null, null, null, null, null, null, null, null, null, null, null], \"yaxis\": \"y\"}, {\"mode\": \"lines\", \"type\": \"scatter\", \"x\": [\"00:00\", \"00:10\", \"00:20\", \"00:30\", \"00:40\", \"00:50\", \"01:00\", \"01:10\", \"01:20\", \"01:30\", \"01:40\", \"01:50\", \"02:00\", \"02:10\", \"02:20\", \"02:30\", \"02:40\", \"02:50\", \"03:00\", \"03:10\", \"03:20\", \"03:30\", \"03:40\", \"03:50\", \"04:00\", \"04:10\", \"04:20\", \"04:30\", \"04:40\", \"04:50\", \"05:00\", \"05:10\", \"05:20\", \"05:30\", \"05:40\", \"05:50\", \"06:00\", \"06:10\", \"06:20\", \"06:30\", \"06:40\", \"06:50\", \"07:00\", \"07:10\", \"07:20\", \"07:30\", \"07:40\", \"07:50\", \"08:00\", \"08:10\", \"08:20\", \"08:30\", \"08:40\", \"08:50\", \"09:00\", \"09:10\", \"09:20\", \"09:30\", \"09:40\", \"09:50\", \"10:00\", \"10:10\", \"10:20\", \"10:30\", \"10:40\", \"10:50\", \"11:00\", \"11:10\", \"11:20\", \"11:30\", \"11:40\", \"11:50\", \"12:00\", \"12:10\", \"12:20\", \"12:30\", \"12:40\", \"12:50\", \"13:00\", \"13:10\", \"13:20\", \"13:30\", \"13:40\", \"13:50\", \"14:00\", \"14:10\", \"14:20\", \"14:30\", \"14:40\", \"14:50\", \"15:00\", \"15:10\", \"15:20\", \"15:30\", \"15:40\", \"15:50\", \"16:00\", \"16:10\", \"16:20\", \"16:30\", \"16:40\", \"16:50\", \"17:00\", \"17:10\", \"17:20\", \"17:30\", \"17:40\", \"17:50\", \"18:00\", \"18:10\", \"18:20\", \"18:30\", \"18:40\", \"18:50\", \"19:00\", \"19:10\", \"19:20\", \"19:30\", \"19:40\", \"19:50\", \"20:00\", \"20:10\", \"20:20\", \"20:30\", \"20:40\", \"20:50\", \"21:00\", \"21:10\", \"21:20\", \"21:30\", \"21:40\", \"21:50\", \"22:00\", \"22:10\", \"22:20\", \"22:30\", \"22:40\", \"22:50\", \"23:00\", \"23:10\", \"23:20\", \"23:30\", \"23:40\", \"23:50\"], \"y\": [2718.7, 2700.3, 2690.2, 2649.9, 2640.4, 2626.2, 2597.7, 2585.4, 2569.7, 2562.8, 2536.2, 2521.9, 2496.4, 2476.7, 2468.5, 2440.8, 2438.3, 2416.3, 2413.8, 2383.4, 2398.1, 2379.4, 2388.0, 2389.8, 2369.4, 2367.2, 2360.8, 2355.2, 2357.2, 2333.1, 2349.0, 2353.1, 2365.9, 2351.4, 2343.3, 2340.6, 2355.7, 2366.3, 2379.0, 2413.2, 2412.6, 2428.5, 2454.4, 2494.2, 2532.0, 2557.2, 2620.5, 2711.1, 2817.1, 2970.9, 3028.7, 3099.3, 3148.0, 3194.3, 3232.5, 3265.6, 3294.9, 3287.5, 3312.1, 3335.9, 3331.7, 3358.1, 3369.8, 3394.7, 3410.2, 3434.7, 3462.3, 3479.9, 3480.5, 3514.4, 3504.7, 3521.5, 3473.8, 3414.1, 3422.2, 3431.8, 3429.2, 3444.4, 3470.5, 3578.9, 3598.8, 3600.5, 3629.5, 3634.5, 3633.5, 3606.4, 3630.4, 3615.4, 3606.2, 3618.1, 3591.9, 3610.3, 3615.5, 3614.9, 3612.3, 3594.2, 3585.8, 3582.8, 3588.0, 3584.5, 3573.0, 3545.4, 3488.0, 3457.5, 3437.9, 3441.6, 3446.9, 3444.6, 3432.2, 3433.2, 3447.3, 3466.5, 3497.2, 3482.0, 3491.5, 3479.4, 3469.0, 3458.6, 3453.8, 3449.1, 3429.6, 3413.8, 3415.5, 3397.1, 3385.9, 3387.6, 3386.7, 3347.1, 3327.3, 3307.2, 3288.5, 3290.1, 3259.2, 3237.3, 3224.3, 3202.4, 3187.1, 3214.7, 3189.7, 3150.6, 3107.0, 3084.5, 3053.2, 3046.5]}],\n",
              "                        {\"legend\": {\"tracegroupgap\": 0}, \"margin\": {\"t\": 60}, \"template\": {\"data\": {\"bar\": [{\"error_x\": {\"color\": \"#2a3f5f\"}, \"error_y\": {\"color\": \"#2a3f5f\"}, \"marker\": {\"line\": {\"color\": \"#E5ECF6\", \"width\": 0.5}}, \"type\": \"bar\"}], \"barpolar\": [{\"marker\": {\"line\": {\"color\": \"#E5ECF6\", \"width\": 0.5}}, \"type\": \"barpolar\"}], \"carpet\": [{\"aaxis\": {\"endlinecolor\": \"#2a3f5f\", \"gridcolor\": \"white\", \"linecolor\": \"white\", \"minorgridcolor\": \"white\", \"startlinecolor\": \"#2a3f5f\"}, \"baxis\": {\"endlinecolor\": \"#2a3f5f\", \"gridcolor\": \"white\", \"linecolor\": \"white\", \"minorgridcolor\": \"white\", \"startlinecolor\": \"#2a3f5f\"}, \"type\": \"carpet\"}], \"choropleth\": [{\"colorbar\": {\"outlinewidth\": 0, \"ticks\": \"\"}, \"type\": \"choropleth\"}], \"contour\": [{\"colorbar\": {\"outlinewidth\": 0, \"ticks\": \"\"}, \"colorscale\": [[0.0, \"#0d0887\"], [0.1111111111111111, \"#46039f\"], [0.2222222222222222, \"#7201a8\"], [0.3333333333333333, \"#9c179e\"], [0.4444444444444444, \"#bd3786\"], [0.5555555555555556, \"#d8576b\"], [0.6666666666666666, \"#ed7953\"], [0.7777777777777778, \"#fb9f3a\"], [0.8888888888888888, \"#fdca26\"], [1.0, \"#f0f921\"]], \"type\": \"contour\"}], \"contourcarpet\": [{\"colorbar\": {\"outlinewidth\": 0, \"ticks\": \"\"}, \"type\": \"contourcarpet\"}], \"heatmap\": [{\"colorbar\": {\"outlinewidth\": 0, \"ticks\": \"\"}, \"colorscale\": [[0.0, \"#0d0887\"], [0.1111111111111111, \"#46039f\"], [0.2222222222222222, \"#7201a8\"], [0.3333333333333333, \"#9c179e\"], [0.4444444444444444, \"#bd3786\"], [0.5555555555555556, \"#d8576b\"], [0.6666666666666666, \"#ed7953\"], [0.7777777777777778, \"#fb9f3a\"], [0.8888888888888888, \"#fdca26\"], [1.0, \"#f0f921\"]], \"type\": \"heatmap\"}], \"heatmapgl\": [{\"colorbar\": {\"outlinewidth\": 0, \"ticks\": \"\"}, \"colorscale\": [[0.0, \"#0d0887\"], [0.1111111111111111, \"#46039f\"], [0.2222222222222222, \"#7201a8\"], [0.3333333333333333, \"#9c179e\"], [0.4444444444444444, \"#bd3786\"], [0.5555555555555556, \"#d8576b\"], [0.6666666666666666, \"#ed7953\"], [0.7777777777777778, \"#fb9f3a\"], [0.8888888888888888, \"#fdca26\"], [1.0, \"#f0f921\"]], \"type\": \"heatmapgl\"}], \"histogram\": [{\"marker\": {\"colorbar\": {\"outlinewidth\": 0, \"ticks\": \"\"}}, \"type\": \"histogram\"}], \"histogram2d\": [{\"colorbar\": {\"outlinewidth\": 0, \"ticks\": \"\"}, \"colorscale\": [[0.0, \"#0d0887\"], [0.1111111111111111, \"#46039f\"], [0.2222222222222222, \"#7201a8\"], [0.3333333333333333, \"#9c179e\"], [0.4444444444444444, \"#bd3786\"], [0.5555555555555556, \"#d8576b\"], [0.6666666666666666, \"#ed7953\"], [0.7777777777777778, \"#fb9f3a\"], [0.8888888888888888, \"#fdca26\"], [1.0, \"#f0f921\"]], \"type\": \"histogram2d\"}], \"histogram2dcontour\": [{\"colorbar\": {\"outlinewidth\": 0, \"ticks\": \"\"}, \"colorscale\": [[0.0, \"#0d0887\"], [0.1111111111111111, \"#46039f\"], [0.2222222222222222, \"#7201a8\"], [0.3333333333333333, \"#9c179e\"], [0.4444444444444444, \"#bd3786\"], [0.5555555555555556, \"#d8576b\"], [0.6666666666666666, \"#ed7953\"], [0.7777777777777778, \"#fb9f3a\"], [0.8888888888888888, \"#fdca26\"], [1.0, \"#f0f921\"]], \"type\": \"histogram2dcontour\"}], \"mesh3d\": [{\"colorbar\": {\"outlinewidth\": 0, \"ticks\": \"\"}, \"type\": \"mesh3d\"}], \"parcoords\": [{\"line\": {\"colorbar\": {\"outlinewidth\": 0, \"ticks\": \"\"}}, \"type\": \"parcoords\"}], \"pie\": [{\"automargin\": true, \"type\": \"pie\"}], \"scatter\": [{\"marker\": {\"colorbar\": {\"outlinewidth\": 0, \"ticks\": \"\"}}, \"type\": \"scatter\"}], \"scatter3d\": [{\"line\": {\"colorbar\": {\"outlinewidth\": 0, \"ticks\": \"\"}}, \"marker\": {\"colorbar\": {\"outlinewidth\": 0, \"ticks\": \"\"}}, \"type\": \"scatter3d\"}], \"scattercarpet\": [{\"marker\": {\"colorbar\": {\"outlinewidth\": 0, \"ticks\": \"\"}}, \"type\": \"scattercarpet\"}], \"scattergeo\": [{\"marker\": {\"colorbar\": {\"outlinewidth\": 0, \"ticks\": \"\"}}, \"type\": \"scattergeo\"}], \"scattergl\": [{\"marker\": {\"colorbar\": {\"outlinewidth\": 0, \"ticks\": \"\"}}, \"type\": \"scattergl\"}], \"scattermapbox\": [{\"marker\": {\"colorbar\": {\"outlinewidth\": 0, \"ticks\": \"\"}}, \"type\": \"scattermapbox\"}], \"scatterpolar\": [{\"marker\": {\"colorbar\": {\"outlinewidth\": 0, \"ticks\": \"\"}}, \"type\": \"scatterpolar\"}], \"scatterpolargl\": [{\"marker\": {\"colorbar\": {\"outlinewidth\": 0, \"ticks\": \"\"}}, \"type\": \"scatterpolargl\"}], \"scatterternary\": [{\"marker\": {\"colorbar\": {\"outlinewidth\": 0, \"ticks\": \"\"}}, \"type\": \"scatterternary\"}], \"surface\": [{\"colorbar\": {\"outlinewidth\": 0, \"ticks\": \"\"}, \"colorscale\": [[0.0, \"#0d0887\"], [0.1111111111111111, \"#46039f\"], [0.2222222222222222, \"#7201a8\"], [0.3333333333333333, \"#9c179e\"], [0.4444444444444444, \"#bd3786\"], [0.5555555555555556, \"#d8576b\"], [0.6666666666666666, \"#ed7953\"], [0.7777777777777778, \"#fb9f3a\"], [0.8888888888888888, \"#fdca26\"], [1.0, \"#f0f921\"]], \"type\": \"surface\"}], \"table\": [{\"cells\": {\"fill\": {\"color\": \"#EBF0F8\"}, \"line\": {\"color\": \"white\"}}, \"header\": {\"fill\": {\"color\": \"#C8D4E3\"}, \"line\": {\"color\": \"white\"}}, \"type\": \"table\"}]}, \"layout\": {\"annotationdefaults\": {\"arrowcolor\": \"#2a3f5f\", \"arrowhead\": 0, \"arrowwidth\": 1}, \"coloraxis\": {\"colorbar\": {\"outlinewidth\": 0, \"ticks\": \"\"}}, \"colorscale\": {\"diverging\": [[0, \"#8e0152\"], [0.1, \"#c51b7d\"], [0.2, \"#de77ae\"], [0.3, \"#f1b6da\"], [0.4, \"#fde0ef\"], [0.5, \"#f7f7f7\"], [0.6, \"#e6f5d0\"], [0.7, \"#b8e186\"], [0.8, \"#7fbc41\"], [0.9, \"#4d9221\"], [1, \"#276419\"]], \"sequential\": [[0.0, \"#0d0887\"], [0.1111111111111111, \"#46039f\"], [0.2222222222222222, \"#7201a8\"], [0.3333333333333333, \"#9c179e\"], [0.4444444444444444, \"#bd3786\"], [0.5555555555555556, \"#d8576b\"], [0.6666666666666666, \"#ed7953\"], [0.7777777777777778, \"#fb9f3a\"], [0.8888888888888888, \"#fdca26\"], [1.0, \"#f0f921\"]], \"sequentialminus\": [[0.0, \"#0d0887\"], [0.1111111111111111, \"#46039f\"], [0.2222222222222222, \"#7201a8\"], [0.3333333333333333, \"#9c179e\"], [0.4444444444444444, \"#bd3786\"], [0.5555555555555556, \"#d8576b\"], [0.6666666666666666, \"#ed7953\"], [0.7777777777777778, \"#fb9f3a\"], [0.8888888888888888, \"#fdca26\"], [1.0, \"#f0f921\"]]}, \"colorway\": [\"#636efa\", \"#EF553B\", \"#00cc96\", \"#ab63fa\", \"#FFA15A\", \"#19d3f3\", \"#FF6692\", \"#B6E880\", \"#FF97FF\", \"#FECB52\"], \"font\": {\"color\": \"#2a3f5f\"}, \"geo\": {\"bgcolor\": \"white\", \"lakecolor\": \"white\", \"landcolor\": \"#E5ECF6\", \"showlakes\": true, \"showland\": true, \"subunitcolor\": \"white\"}, \"hoverlabel\": {\"align\": \"left\"}, \"hovermode\": \"closest\", \"mapbox\": {\"style\": \"light\"}, \"paper_bgcolor\": \"white\", \"plot_bgcolor\": \"#E5ECF6\", \"polar\": {\"angularaxis\": {\"gridcolor\": \"white\", \"linecolor\": \"white\", \"ticks\": \"\"}, \"bgcolor\": \"#E5ECF6\", \"radialaxis\": {\"gridcolor\": \"white\", \"linecolor\": \"white\", \"ticks\": \"\"}}, \"scene\": {\"xaxis\": {\"backgroundcolor\": \"#E5ECF6\", \"gridcolor\": \"white\", \"gridwidth\": 2, \"linecolor\": \"white\", \"showbackground\": true, \"ticks\": \"\", \"zerolinecolor\": \"white\"}, \"yaxis\": {\"backgroundcolor\": \"#E5ECF6\", \"gridcolor\": \"white\", \"gridwidth\": 2, \"linecolor\": \"white\", \"showbackground\": true, \"ticks\": \"\", \"zerolinecolor\": \"white\"}, \"zaxis\": {\"backgroundcolor\": \"#E5ECF6\", \"gridcolor\": \"white\", \"gridwidth\": 2, \"linecolor\": \"white\", \"showbackground\": true, \"ticks\": \"\", \"zerolinecolor\": \"white\"}}, \"shapedefaults\": {\"line\": {\"color\": \"#2a3f5f\"}}, \"ternary\": {\"aaxis\": {\"gridcolor\": \"white\", \"linecolor\": \"white\", \"ticks\": \"\"}, \"baxis\": {\"gridcolor\": \"white\", \"linecolor\": \"white\", \"ticks\": \"\"}, \"bgcolor\": \"#E5ECF6\", \"caxis\": {\"gridcolor\": \"white\", \"linecolor\": \"white\", \"ticks\": \"\"}}, \"title\": {\"x\": 0.05}, \"xaxis\": {\"automargin\": true, \"gridcolor\": \"white\", \"linecolor\": \"white\", \"ticks\": \"\", \"title\": {\"standoff\": 15}, \"zerolinecolor\": \"white\", \"zerolinewidth\": 2}, \"yaxis\": {\"automargin\": true, \"gridcolor\": \"white\", \"linecolor\": \"white\", \"ticks\": \"\", \"title\": {\"standoff\": 15}, \"zerolinecolor\": \"white\", \"zerolinewidth\": 2}}}, \"xaxis\": {\"anchor\": \"y\", \"domain\": [0.0, 1.0], \"title\": {\"text\": \"x\"}}, \"yaxis\": {\"anchor\": \"x\", \"domain\": [0.0, 1.0], \"title\": {\"text\": \"today_power\"}}},\n",
              "                        {\"responsive\": true}\n",
              "                    ).then(function(){\n",
              "                            \n",
              "var gd = document.getElementById('2001a3f4-9c56-489c-9a04-91669b186c2f');\n",
              "var x = new MutationObserver(function (mutations, observer) {{\n",
              "        var display = window.getComputedStyle(gd).display;\n",
              "        if (!display || display === 'none') {{\n",
              "            console.log([gd, 'removed!']);\n",
              "            Plotly.purge(gd);\n",
              "            observer.disconnect();\n",
              "        }}\n",
              "}});\n",
              "\n",
              "// Listen for the removal of the full notebook cells\n",
              "var notebookContainer = gd.closest('#notebook-container');\n",
              "if (notebookContainer) {{\n",
              "    x.observe(notebookContainer, {childList: true});\n",
              "}}\n",
              "\n",
              "// Listen for the clearing of the current output cell\n",
              "var outputEl = gd.closest('.output');\n",
              "if (outputEl) {{\n",
              "    x.observe(outputEl, {childList: true});\n",
              "}}\n",
              "\n",
              "                        })\n",
              "                };\n",
              "                \n",
              "            </script>\n",
              "        </div>\n",
              "</body>\n",
              "</html>"
            ]
          },
          "metadata": {
            "tags": []
          }
        }
      ]
    },
    {
      "cell_type": "markdown",
      "metadata": {
        "id": "NhaVIDQRh8vW",
        "colab_type": "text"
      },
      "source": [
        "## Cron (Linux, MAC)\n",
        "- http://linux.vbird.org/linux_basic/0430cron.php\n",
        "\n",
        "## 工作排程(Windows)\n",
        "- 工作排程器\n"
      ]
    },
    {
      "cell_type": "code",
      "metadata": {
        "id": "KsTLW3AxgEaI",
        "colab_type": "code",
        "colab": {}
      },
      "source": [
        ""
      ],
      "execution_count": null,
      "outputs": []
    }
  ]
}