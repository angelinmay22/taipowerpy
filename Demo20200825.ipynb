{
  "nbformat": 4,
  "nbformat_minor": 0,
  "metadata": {
    "colab": {
      "name": "Demo20200825.ipynb",
      "provenance": [],
      "collapsed_sections": []
    },
    "kernelspec": {
      "name": "python3",
      "display_name": "Python 3"
    }
  },
  "cells": [
    {
      "cell_type": "code",
      "metadata": {
        "id": "KF6ulgGlI8Yy",
        "colab_type": "code",
        "colab": {
          "base_uri": "https://localhost:8080/",
          "height": 69
        },
        "outputId": "d9009833-43ef-4fc4-a80b-66f6211a1de6"
      },
      "source": [
        "import requests\n",
        "res = requests.get('https://www.taipower.com.tw/d006/Meter/js/loadpara.js')\n",
        "res.text"
      ],
      "execution_count": 2,
      "outputs": [
        {
          "output_type": "execute_result",
          "data": {
            "application/vnd.google.colaboratory.intrinsic+json": {
              "type": "string"
            },
            "text/plain": [
              "'var colrs = [\"#33CC33\", \"#FFCC00\", \"#FF0000\"]; // Green, Yellow, Red\\r\\nvar loadInfo = [\\r\\n\"3,392.8\",\\r\\n\"3,700.0\",\\r\\n\"4,088.7\",\\r\\n\"109.08.25(二)09:20更新\"\\r\\n]\\r\\n<!--Current System Load-->\\r\\n<!--109-8-25 9:20-->\\r\\n'"
            ]
          },
          "metadata": {
            "tags": []
          },
          "execution_count": 2
        }
      ]
    },
    {
      "cell_type": "code",
      "metadata": {
        "id": "vO6Q4TuJM_-J",
        "colab_type": "code",
        "colab": {
          "base_uri": "https://localhost:8080/",
          "height": 35
        },
        "outputId": "2b2099eb-75f8-4609-e5cc-03ccc7345390"
      },
      "source": [
        "res.text.split('Info = [')[1].split(']')[0].split('\\r\\n')[1]"
      ],
      "execution_count": 9,
      "outputs": [
        {
          "output_type": "execute_result",
          "data": {
            "application/vnd.google.colaboratory.intrinsic+json": {
              "type": "string"
            },
            "text/plain": [
              "'\"3,392.8\",'"
            ]
          },
          "metadata": {
            "tags": []
          },
          "execution_count": 9
        }
      ]
    },
    {
      "cell_type": "code",
      "metadata": {
        "id": "RZXP16o9NW-m",
        "colab_type": "code",
        "colab": {
          "base_uri": "https://localhost:8080/",
          "height": 34
        },
        "outputId": "d8064702-9f83-4146-cbe4-0a5b5e7ae7e2"
      },
      "source": [
        "eval(res.text.split('Info = ')[1].split('<!')[0])"
      ],
      "execution_count": 12,
      "outputs": [
        {
          "output_type": "execute_result",
          "data": {
            "text/plain": [
              "['3,392.8', '3,700.0', '4,088.7', '109.08.25(二)09:20更新']"
            ]
          },
          "metadata": {
            "tags": []
          },
          "execution_count": 12
        }
      ]
    },
    {
      "cell_type": "code",
      "metadata": {
        "id": "5C0l5nJkOfoN",
        "colab_type": "code",
        "colab": {}
      },
      "source": [
        "import requests\n",
        "fueltype = requests.get('https://www.taipower.com.tw/d006/loadGraph/loadGraph/data/loadfueltype.csv')\n",
        "#fueltype.text"
      ],
      "execution_count": 15,
      "outputs": []
    },
    {
      "cell_type": "code",
      "metadata": {
        "id": "_-rvgrE3VqZa",
        "colab_type": "code",
        "colab": {}
      },
      "source": [
        "import requests\n",
        "fueltype1 = requests.get('https://www.taipower.com.tw/d006/loadGraph/loadGraph/data/loadfueltype_1.csv')\n",
        "#fueltype1.text"
      ],
      "execution_count": 16,
      "outputs": []
    },
    {
      "cell_type": "code",
      "metadata": {
        "id": "Zxs9l_00VzcG",
        "colab_type": "code",
        "colab": {}
      },
      "source": [
        ""
      ],
      "execution_count": null,
      "outputs": []
    }
  ]
}