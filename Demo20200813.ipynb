{
  "nbformat": 4,
  "nbformat_minor": 0,
  "metadata": {
    "colab": {
      "name": "Demo20200813.ipynb",
      "provenance": [],
      "collapsed_sections": [],
      "toc_visible": true
    },
    "kernelspec": {
      "name": "python3",
      "display_name": "Python 3"
    }
  },
  "cells": [
    {
      "cell_type": "markdown",
      "metadata": {
        "id": "3y1cZm1jdzCR",
        "colab_type": "text"
      },
      "source": [
        "## Python Basic"
      ]
    },
    {
      "cell_type": "code",
      "metadata": {
        "id": "Udq0tfLxcx-c",
        "colab_type": "code",
        "colab": {
          "base_uri": "https://localhost:8080/",
          "height": 34
        },
        "outputId": "3127662d-7527-46fc-b917-8971c76b1d8e"
      },
      "source": [
        "a = 3\n",
        "b = 2\n",
        "a + b"
      ],
      "execution_count": 1,
      "outputs": [
        {
          "output_type": "execute_result",
          "data": {
            "text/plain": [
              "5"
            ]
          },
          "metadata": {
            "tags": []
          },
          "execution_count": 1
        }
      ]
    },
    {
      "cell_type": "markdown",
      "metadata": {
        "id": "cwSSkcMvkpna",
        "colab_type": "text"
      },
      "source": [
        "## GET"
      ]
    },
    {
      "cell_type": "code",
      "metadata": {
        "id": "BYBbdfZFdoxh",
        "colab_type": "code",
        "colab": {
          "base_uri": "https://localhost:8080/",
          "height": 34
        },
        "outputId": "89a520e6-32d1-4401-e96a-438340a7e0a7"
      },
      "source": [
        "import requests\n",
        "res = requests.get('https://www.re.org.tw/news/default.aspx?cid=219')\n",
        "res"
      ],
      "execution_count": 2,
      "outputs": [
        {
          "output_type": "execute_result",
          "data": {
            "text/plain": [
              "<Response [200]>"
            ]
          },
          "metadata": {
            "tags": []
          },
          "execution_count": 2
        }
      ]
    },
    {
      "cell_type": "code",
      "metadata": {
        "id": "DMG9DCcIkv4_",
        "colab_type": "code",
        "colab": {}
      },
      "source": [
        "#res.text"
      ],
      "execution_count": 4,
      "outputs": []
    },
    {
      "cell_type": "markdown",
      "metadata": {
        "id": "8erlVVIdmf18",
        "colab_type": "text"
      },
      "source": [
        "## POST"
      ]
    },
    {
      "cell_type": "code",
      "metadata": {
        "id": "nsC7anehk5RP",
        "colab_type": "code",
        "colab": {}
      },
      "source": [
        "import requests\n",
        "url = 'https://www.thsrc.com.tw/TimeTable/Search'\n",
        "payload = {\n",
        "'SearchType': 'S',\n",
        "'Lang': 'TW',\n",
        "'StartStation': 'TaiPei',\n",
        "'EndStation': 'XinZhu',\n",
        "'OutWardSearchDate': '2020/08/13',\n",
        "'OutWardSearchTime': '15:00',\n",
        "'ReturnSearchDate': '2020/08/13',\n",
        "'ReturnSearchTime': '15:00',\n",
        "}\n",
        "res = requests.post(url, data = payload)"
      ],
      "execution_count": 9,
      "outputs": []
    },
    {
      "cell_type": "code",
      "metadata": {
        "id": "oG__lFzqm7-T",
        "colab_type": "code",
        "colab": {
          "base_uri": "https://localhost:8080/",
          "height": 34
        },
        "outputId": "c202dd3e-2082-4951-e38f-79b292cabd59"
      },
      "source": [
        "res"
      ],
      "execution_count": 10,
      "outputs": [
        {
          "output_type": "execute_result",
          "data": {
            "text/plain": [
              "<Response [200]>"
            ]
          },
          "metadata": {
            "tags": []
          },
          "execution_count": 10
        }
      ]
    },
    {
      "cell_type": "code",
      "metadata": {
        "id": "S-WTRZ1im84q",
        "colab_type": "code",
        "colab": {}
      },
      "source": [
        "#res.text\n",
        "#res.json()"
      ],
      "execution_count": 13,
      "outputs": []
    },
    {
      "cell_type": "code",
      "metadata": {
        "id": "xpIjCPUsm-v6",
        "colab_type": "code",
        "colab": {}
      },
      "source": [
        "import requests\n",
        "res = requests.get('https://upload.wikimedia.org/wikipedia/commons/thumb/c/cd/Chou_Tzuyu_at_the_Golden_Disc_Awards_2019.png/220px-Chou_Tzuyu_at_the_Golden_Disc_Awards_2019.png')\n",
        "with open('zhiyu.png', 'wb') as f:\n",
        "  f.write(res.content)"
      ],
      "execution_count": 14,
      "outputs": []
    },
    {
      "cell_type": "code",
      "metadata": {
        "id": "F3AZuf_Un20r",
        "colab_type": "code",
        "colab": {
          "base_uri": "https://localhost:8080/",
          "height": 287
        },
        "outputId": "9b740056-137e-41ec-e0a0-44e1374a7d09"
      },
      "source": [
        "from PIL import Image\n",
        "Image.open('zhiyu.png')"
      ],
      "execution_count": 15,
      "outputs": [
        {
          "output_type": "execute_result",
          "data": {
            "image/png": "[encoded data removed]",
            "text/plain": [
              "<PIL.PngImagePlugin.PngImageFile image mode=RGBA size=220x270 at 0x7FEECD843AC8>"
            ]
          },
          "metadata": {
            "tags": []
          },
          "execution_count": 15
        }
      ]
    },
    {
      "cell_type": "markdown",
      "metadata": {
        "id": "JVMbhM_Yq_xn",
        "colab_type": "text"
      },
      "source": [
        "## Data Parsing"
      ]
    },
    {
      "cell_type": "code",
      "metadata": {
        "id": "TKam3unIn6do",
        "colab_type": "code",
        "colab": {}
      },
      "source": [
        "html_sample = ''' <html> <body> <h1 id=\"title\">Hello World</h1> <a href=\"#\" class=\"link\">This is link1</a> <a href=\"# link2\" class=\"link\">This is link2</a> </body> </html>'''"
      ],
      "execution_count": 16,
      "outputs": []
    },
    {
      "cell_type": "code",
      "metadata": {
        "id": "m7AmiWkSrBwV",
        "colab_type": "code",
        "colab": {}
      },
      "source": [
        "from bs4 import BeautifulSoup\n",
        "soup = BeautifulSoup(html_sample, 'lxml')"
      ],
      "execution_count": 17,
      "outputs": []
    },
    {
      "cell_type": "code",
      "metadata": {
        "id": "1zvcMzWrrIiM",
        "colab_type": "code",
        "colab": {
          "base_uri": "https://localhost:8080/",
          "height": 35
        },
        "outputId": "4c61b98d-eaed-401d-a1b5-32c87c92c547"
      },
      "source": [
        "soup.text"
      ],
      "execution_count": 18,
      "outputs": [
        {
          "output_type": "execute_result",
          "data": {
            "application/vnd.google.colaboratory.intrinsic+json": {
              "type": "string"
            },
            "text/plain": [
              "'  Hello World This is link1 This is link2  '"
            ]
          },
          "metadata": {
            "tags": []
          },
          "execution_count": 18
        }
      ]
    },
    {
      "cell_type": "code",
      "metadata": {
        "id": "qJVHgeInrL5s",
        "colab_type": "code",
        "colab": {
          "base_uri": "https://localhost:8080/",
          "height": 34
        },
        "outputId": "28166f0a-8a2d-4081-958e-4534916c1eb5"
      },
      "source": [
        "soup.select_one('h1')"
      ],
      "execution_count": 19,
      "outputs": [
        {
          "output_type": "execute_result",
          "data": {
            "text/plain": [
              "<h1 id=\"title\">Hello World</h1>"
            ]
          },
          "metadata": {
            "tags": []
          },
          "execution_count": 19
        }
      ]
    },
    {
      "cell_type": "code",
      "metadata": {
        "id": "SocDEgr7rYE_",
        "colab_type": "code",
        "colab": {
          "base_uri": "https://localhost:8080/",
          "height": 35
        },
        "outputId": "cf08822d-bbb2-4f46-cb1c-eda1f54b203c"
      },
      "source": [
        "soup.select_one('h1').text"
      ],
      "execution_count": 20,
      "outputs": [
        {
          "output_type": "execute_result",
          "data": {
            "application/vnd.google.colaboratory.intrinsic+json": {
              "type": "string"
            },
            "text/plain": [
              "'Hello World'"
            ]
          },
          "metadata": {
            "tags": []
          },
          "execution_count": 20
        }
      ]
    },
    {
      "cell_type": "code",
      "metadata": {
        "id": "QcGJHeUTrdC2",
        "colab_type": "code",
        "colab": {
          "base_uri": "https://localhost:8080/",
          "height": 34
        },
        "outputId": "b2711573-4558-4163-e929-b21e29334f80"
      },
      "source": [
        "soup.select_one('a')"
      ],
      "execution_count": 21,
      "outputs": [
        {
          "output_type": "execute_result",
          "data": {
            "text/plain": [
              "<a class=\"link\" href=\"#\">This is link1</a>"
            ]
          },
          "metadata": {
            "tags": []
          },
          "execution_count": 21
        }
      ]
    },
    {
      "cell_type": "code",
      "metadata": {
        "id": "ffndoO-JrioV",
        "colab_type": "code",
        "colab": {
          "base_uri": "https://localhost:8080/",
          "height": 51
        },
        "outputId": "6af5eaf9-4172-48e4-8e0b-7b7830661581"
      },
      "source": [
        "soup.select('a')"
      ],
      "execution_count": 22,
      "outputs": [
        {
          "output_type": "execute_result",
          "data": {
            "text/plain": [
              "[<a class=\"link\" href=\"#\">This is link1</a>,\n",
              " <a class=\"link\" href=\"# link2\">This is link2</a>]"
            ]
          },
          "metadata": {
            "tags": []
          },
          "execution_count": 22
        }
      ]
    },
    {
      "cell_type": "code",
      "metadata": {
        "id": "mH_dwTxLroQ1",
        "colab_type": "code",
        "colab": {
          "base_uri": "https://localhost:8080/",
          "height": 51
        },
        "outputId": "9dedef28-8e74-417b-e5c9-bcca2b507e95"
      },
      "source": [
        "for alink in soup.select('a'):\n",
        "  print(alink.text)"
      ],
      "execution_count": 23,
      "outputs": [
        {
          "output_type": "stream",
          "text": [
            "This is link1\n",
            "This is link2\n"
          ],
          "name": "stdout"
        }
      ]
    },
    {
      "cell_type": "code",
      "metadata": {
        "id": "odH9xkF4r0w8",
        "colab_type": "code",
        "colab": {
          "base_uri": "https://localhost:8080/",
          "height": 34
        },
        "outputId": "b26246ef-4c1b-45b5-f6c5-87166b4ba654"
      },
      "source": [
        "# id => #\n",
        "soup.select_one('#title')"
      ],
      "execution_count": 24,
      "outputs": [
        {
          "output_type": "execute_result",
          "data": {
            "text/plain": [
              "<h1 id=\"title\">Hello World</h1>"
            ]
          },
          "metadata": {
            "tags": []
          },
          "execution_count": 24
        }
      ]
    },
    {
      "cell_type": "code",
      "metadata": {
        "id": "wz8S7N8lsp1e",
        "colab_type": "code",
        "colab": {
          "base_uri": "https://localhost:8080/",
          "height": 34
        },
        "outputId": "89ba4808-ee52-49c7-a085-5e771b3b628f"
      },
      "source": [
        "soup.select_one('h1#title')"
      ],
      "execution_count": 25,
      "outputs": [
        {
          "output_type": "execute_result",
          "data": {
            "text/plain": [
              "<h1 id=\"title\">Hello World</h1>"
            ]
          },
          "metadata": {
            "tags": []
          },
          "execution_count": 25
        }
      ]
    },
    {
      "cell_type": "code",
      "metadata": {
        "id": "yx_XHMhRsuOT",
        "colab_type": "code",
        "colab": {
          "base_uri": "https://localhost:8080/",
          "height": 34
        },
        "outputId": "e86bcc85-b125-4c8b-ee76-e814cdeb363d"
      },
      "source": [
        "soup.select_one('body h1#title')"
      ],
      "execution_count": 26,
      "outputs": [
        {
          "output_type": "execute_result",
          "data": {
            "text/plain": [
              "<h1 id=\"title\">Hello World</h1>"
            ]
          },
          "metadata": {
            "tags": []
          },
          "execution_count": 26
        }
      ]
    },
    {
      "cell_type": "code",
      "metadata": {
        "id": "jE64ZCsis1oT",
        "colab_type": "code",
        "colab": {
          "base_uri": "https://localhost:8080/",
          "height": 34
        },
        "outputId": "3b19de49-141f-4253-aaa3-f29e05f515c5"
      },
      "source": [
        "soup.select_one('body #title')"
      ],
      "execution_count": 27,
      "outputs": [
        {
          "output_type": "execute_result",
          "data": {
            "text/plain": [
              "<h1 id=\"title\">Hello World</h1>"
            ]
          },
          "metadata": {
            "tags": []
          },
          "execution_count": 27
        }
      ]
    },
    {
      "cell_type": "code",
      "metadata": {
        "id": "OKSBHssDs3vM",
        "colab_type": "code",
        "colab": {
          "base_uri": "https://localhost:8080/",
          "height": 51
        },
        "outputId": "017ede1c-da6e-4aa8-e9b5-8d4075deb9dc"
      },
      "source": [
        "# class => .\n",
        "soup.select('.link')"
      ],
      "execution_count": 28,
      "outputs": [
        {
          "output_type": "execute_result",
          "data": {
            "text/plain": [
              "[<a class=\"link\" href=\"#\">This is link1</a>,\n",
              " <a class=\"link\" href=\"# link2\">This is link2</a>]"
            ]
          },
          "metadata": {
            "tags": []
          },
          "execution_count": 28
        }
      ]
    },
    {
      "cell_type": "code",
      "metadata": {
        "id": "4fnuUKowtFal",
        "colab_type": "code",
        "colab": {
          "base_uri": "https://localhost:8080/",
          "height": 51
        },
        "outputId": "72e95eba-ca49-40e9-9581-76de92bd7ce7"
      },
      "source": [
        "soup.select('a.link')"
      ],
      "execution_count": 29,
      "outputs": [
        {
          "output_type": "execute_result",
          "data": {
            "text/plain": [
              "[<a class=\"link\" href=\"#\">This is link1</a>,\n",
              " <a class=\"link\" href=\"# link2\">This is link2</a>]"
            ]
          },
          "metadata": {
            "tags": []
          },
          "execution_count": 29
        }
      ]
    },
    {
      "cell_type": "code",
      "metadata": {
        "id": "3IOXSMq2tIdG",
        "colab_type": "code",
        "colab": {
          "base_uri": "https://localhost:8080/",
          "height": 51
        },
        "outputId": "1c58093f-346d-43fc-f767-1cdb4a0352e3"
      },
      "source": [
        "soup.select('body a.link')"
      ],
      "execution_count": 31,
      "outputs": [
        {
          "output_type": "execute_result",
          "data": {
            "text/plain": [
              "[<a class=\"link\" href=\"#\">This is link1</a>,\n",
              " <a class=\"link\" href=\"# link2\">This is link2</a>]"
            ]
          },
          "metadata": {
            "tags": []
          },
          "execution_count": 31
        }
      ]
    },
    {
      "cell_type": "code",
      "metadata": {
        "id": "nM13bUDitMqG",
        "colab_type": "code",
        "colab": {
          "base_uri": "https://localhost:8080/",
          "height": 52
        },
        "outputId": "546dcd14-af88-4cd1-ffd8-49080aca10f8"
      },
      "source": [
        "soup.select('body .link')"
      ],
      "execution_count": 32,
      "outputs": [
        {
          "output_type": "execute_result",
          "data": {
            "text/plain": [
              "[<a class=\"link\" href=\"#\">This is link1</a>,\n",
              " <a class=\"link\" href=\"# link2\">This is link2</a>]"
            ]
          },
          "metadata": {
            "tags": []
          },
          "execution_count": 32
        }
      ]
    },
    {
      "cell_type": "code",
      "metadata": {
        "id": "Sa5pyWYCtNjW",
        "colab_type": "code",
        "colab": {
          "base_uri": "https://localhost:8080/",
          "height": 52
        },
        "outputId": "095a14d7-7b43-43a3-b3c4-25124aa9ab34"
      },
      "source": [
        "for link in soup.select('body .link'):\n",
        "  print(link.get('href'))"
      ],
      "execution_count": 34,
      "outputs": [
        {
          "output_type": "stream",
          "text": [
            "#\n",
            "# link2\n"
          ],
          "name": "stdout"
        }
      ]
    },
    {
      "cell_type": "markdown",
      "metadata": {
        "id": "lOhAOyUYuAtM",
        "colab_type": "text"
      },
      "source": [
        "## 再生能源資訊網列表爬取"
      ]
    },
    {
      "cell_type": "code",
      "metadata": {
        "id": "PHIL2eHytdfO",
        "colab_type": "code",
        "colab": {
          "base_uri": "https://localhost:8080/",
          "height": 35
        },
        "outputId": "5ab6d2a0-31a6-4e5f-b666-f1129cc48749"
      },
      "source": [
        "import requests\n",
        "res = requests.get('https://www.re.org.tw/news/default.aspx?cid=198')\n",
        "res"
      ],
      "execution_count": 35,
      "outputs": [
        {
          "output_type": "execute_result",
          "data": {
            "text/plain": [
              "<Response [200]>"
            ]
          },
          "metadata": {
            "tags": []
          },
          "execution_count": 35
        }
      ]
    },
    {
      "cell_type": "code",
      "metadata": {
        "id": "8L5PFvvwuJDH",
        "colab_type": "code",
        "colab": {}
      },
      "source": [
        "from bs4 import BeautifulSoup\n",
        "soup = BeautifulSoup(res.text, 'lxml')"
      ],
      "execution_count": 37,
      "outputs": []
    },
    {
      "cell_type": "code",
      "metadata": {
        "id": "qTAkcIHZuKlX",
        "colab_type": "code",
        "colab": {
          "base_uri": "https://localhost:8080/",
          "height": 741
        },
        "outputId": "5c1082ba-48ba-42b7-9f2c-0b5175bc2fd8"
      },
      "source": [
        "soup.select('.content-box-list li a')"
      ],
      "execution_count": 39,
      "outputs": [
        {
          "output_type": "execute_result",
          "data": {
            "text/plain": [
              "[<a href=\"/news/more.aspx?cid=198&amp;id=3574\" title=\"樹電共生！奇美太陽能電廠今啟用 年發電兩千萬度\">\n",
              " <span class=\"date\">2020/8/12</span>\n",
              " <h3 class=\"tit\">樹電共生！奇美太陽能電廠今啟用 年發電兩千萬度</h3>\n",
              " </a>,\n",
              " <a href=\"/news/more.aspx?cid=198&amp;id=3565\" title=\"台中文山綠光計畫種太陽能板 2年發1397萬度電\">\n",
              " <span class=\"date\">2020/8/4</span>\n",
              " <h3 class=\"tit\">台中文山綠光計畫種太陽能板 2年發1397萬度電</h3>\n",
              " </a>,\n",
              " <a href=\"/news/more.aspx?cid=198&amp;id=3564\" title=\"全球半導體企業第一家 台積電加入RE100 承諾100％使用再生能源\">\n",
              " <span class=\"date\">2020/8/3</span>\n",
              " <h3 class=\"tit\">全球半導體企業第一家 台積電加入RE100 承諾100％使用再生能源</h3>\n",
              " </a>,\n",
              " <a href=\"/news/more.aspx?cid=198&amp;id=3557\" title=\"台塑集團麥寮風力發電投資為綠能佈局助威\">\n",
              " <span class=\"date\">2020/7/28</span>\n",
              " <h3 class=\"tit\">台塑集團麥寮風力發電投資為綠能佈局助威</h3>\n",
              " </a>,\n",
              " <a href=\"/news/more.aspx?cid=198&amp;id=3548\" title=\"上半年僑外投資 風電最威\">\n",
              " <span class=\"date\">2020/7/21</span>\n",
              " <h3 class=\"tit\">上半年僑外投資 風電最威</h3>\n",
              " </a>,\n",
              " <a href=\"/news/more.aspx?cid=198&amp;id=3542\" title=\"亞洲首例！台電結合民間打造虛擬電廠 特斯拉電池助陣\">\n",
              " <span class=\"date\">2020/7/17</span>\n",
              " <h3 class=\"tit\">亞洲首例！台電結合民間打造虛擬電廠 特斯拉電池助陣</h3>\n",
              " </a>,\n",
              " <a href=\"/news/more.aspx?cid=198&amp;id=3534\" title=\"雙重台灣之光！沃旭與台積電簽署全球最大再生能源購電契約\">\n",
              " <span class=\"date\">2020/7/8</span>\n",
              " <h3 class=\"tit\">雙重台灣之光！沃旭與台積電簽署全球最大再生能源購電契約</h3>\n",
              " </a>,\n",
              " <a href=\"/news/more.aspx?cid=198&amp;id=3532\" title=\"離岸風電籌資順 台灣ESG跨大步\">\n",
              " <span class=\"date\">2020/7/7</span>\n",
              " <h3 class=\"tit\">離岸風電籌資順 台灣ESG跨大步</h3>\n",
              " </a>,\n",
              " <a href=\"/news/more.aspx?cid=198&amp;id=3526\" title=\"建置金門成智慧低碳示範島 台電盼複製成功經驗\">\n",
              " <span class=\"date\">2020/7/1</span>\n",
              " <h3 class=\"tit\">建置金門成智慧低碳示範島 台電盼複製成功經驗</h3>\n",
              " </a>,\n",
              " <a href=\"/news/more.aspx?cid=198&amp;id=3524\" title=\"台積電擴大使用再生能源 今年太陽能預計發電量可達527萬度\">\n",
              " <span class=\"date\">2020/6/30</span>\n",
              " <h3 class=\"tit\">台積電擴大使用再生能源 今年太陽能預計發電量可達527萬度</h3>\n",
              " </a>]"
            ]
          },
          "metadata": {
            "tags": []
          },
          "execution_count": 39
        }
      ]
    },
    {
      "cell_type": "code",
      "metadata": {
        "id": "rqZv7iGXu193",
        "colab_type": "code",
        "colab": {
          "base_uri": "https://localhost:8080/",
          "height": 389
        },
        "outputId": "7e08d276-7920-4f91-b5fe-ffc2daaa729f"
      },
      "source": [
        "domain = 'https://www.re.org.tw'\n",
        "for rec in soup.select('.content-box-list li a'):\n",
        "  title = rec.select_one('h3').text\n",
        "  dt   = rec.select_one('.date').text\n",
        "  link  = domain + rec.get('href')\n",
        "  #print(rec)\n",
        "  print(title, dt, link)\n",
        "  print('===================================')"
      ],
      "execution_count": 52,
      "outputs": [
        {
          "output_type": "stream",
          "text": [
            "樹電共生！奇美太陽能電廠今啟用 年發電兩千萬度 2020/8/12 https://www.re.org.tw/news/more.aspx?cid=198&id=3574\n",
            "===================================\n",
            "台中文山綠光計畫種太陽能板 2年發1397萬度電 2020/8/4 https://www.re.org.tw/news/more.aspx?cid=198&id=3565\n",
            "===================================\n",
            "全球半導體企業第一家 台積電加入RE100 承諾100％使用再生能源 2020/8/3 https://www.re.org.tw/news/more.aspx?cid=198&id=3564\n",
            "===================================\n",
            "台塑集團麥寮風力發電投資為綠能佈局助威 2020/7/28 https://www.re.org.tw/news/more.aspx?cid=198&id=3557\n",
            "===================================\n",
            "上半年僑外投資 風電最威 2020/7/21 https://www.re.org.tw/news/more.aspx?cid=198&id=3548\n",
            "===================================\n",
            "亞洲首例！台電結合民間打造虛擬電廠 特斯拉電池助陣 2020/7/17 https://www.re.org.tw/news/more.aspx?cid=198&id=3542\n",
            "===================================\n",
            "雙重台灣之光！沃旭與台積電簽署全球最大再生能源購電契約 2020/7/8 https://www.re.org.tw/news/more.aspx?cid=198&id=3534\n",
            "===================================\n",
            "離岸風電籌資順 台灣ESG跨大步 2020/7/7 https://www.re.org.tw/news/more.aspx?cid=198&id=3532\n",
            "===================================\n",
            "建置金門成智慧低碳示範島 台電盼複製成功經驗 2020/7/1 https://www.re.org.tw/news/more.aspx?cid=198&id=3526\n",
            "===================================\n",
            "台積電擴大使用再生能源 今年太陽能預計發電量可達527萬度 2020/6/30 https://www.re.org.tw/news/more.aspx?cid=198&id=3524\n",
            "===================================\n"
          ],
          "name": "stdout"
        }
      ]
    },
    {
      "cell_type": "markdown",
      "metadata": {
        "id": "cOlDRCvEypcU",
        "colab_type": "text"
      },
      "source": [
        "## 抓取新聞內文"
      ]
    },
    {
      "cell_type": "code",
      "metadata": {
        "id": "sPHikxHuwNix",
        "colab_type": "code",
        "colab": {}
      },
      "source": [
        "import requests\n",
        "from bs4 import BeautifulSoup\n",
        "res = requests.get('https://www.re.org.tw/news/more.aspx?cid=198&id=3574')\n",
        "soup = BeautifulSoup(res.text, 'lxml')\n",
        "#res.text"
      ],
      "execution_count": 55,
      "outputs": []
    },
    {
      "cell_type": "code",
      "metadata": {
        "id": "eFq17GA0ytMH",
        "colab_type": "code",
        "colab": {
          "base_uri": "https://localhost:8080/",
          "height": 352
        },
        "outputId": "3961b4bf-dfb1-4ed5-de67-bb6a4ac14ffc"
      },
      "source": [
        "soup.select_one('.content-box-article').text.strip()"
      ],
      "execution_count": 58,
      "outputs": [
        {
          "output_type": "execute_result",
          "data": {
            "application/vnd.google.colaboratory.intrinsic+json": {
              "type": "string"
            },
            "text/plain": [
              "'2020-08-11 14:44 聯合報 / 記者周宗禎／台南即時報導\\n\\n\\n\\n\\n\\r\\n奇美實業打造台南善化閒置工廠用地成「奇美綠能園區」，設置年發電量兩千萬度太陽能電廠，今天啟用。區內保存超過2萬2000棵樹是「工業、生態、景觀平衡的樹電共生園區」，年減碳達1萬2000公噸。\\n\\r\\n奇美強調，最大限度保留原生樹木與植被設置太陽能電廠，雖然「樹電共生」增加後續維運成本，犧牲20%以上發電效益，「成就最美的療癒電廠」。\\n\\r\\n奇美邀請台南市長黃偉哲、經濟部能源局長游振偉、工業局長呂正華與台電等單位首長，及建置廠商友達光電參與啟用儀式，「見證奇美六十周年獻給地球的永續禮物，為社會與環境貢獻的環保決心」。\\n\\r\\n奇美實業董事長許春華說，這座園區誕生充份實踐奇美對環境的永續承諾，也讓奇美在響應低碳城市與再生能源發展上盡一分心力。推動綠能發展不但是善盡企業社會責任，更是對企業永續競爭力的投資。將走入下一個60年的奇美，希望透過綠能園區傳遞奇美的Clean & Green綠色願景，並投入更多綠色創新，力求把潔淨與綠色元素貫穿在企業每個環節中。\\n\\r\\n他說，太陽能電廠設計初始即規畫三個樹林保留區並設置環廠行道樹，也將需移植的樹木轉贈關係企業，堅決不傷害任何一棵樹。電廠在建置時更放棄傳統的混凝土基樁，而採用鋼樁工法，以及全區地面不鋪柏油。雖然增加了投資成本及後續維運成本，但奇美堅持要讓土地呼吸，讓未來土地復育零負擔。奇美實業充分善用綠色科技樹電共生，透過這座有別於傳統、花木扶疏的綠能電廠，療癒自然，也療癒人心。\\n\\r\\n奇美實業總經理趙令瑜表示，奇美目前綠電建置容量已經達22MW，相當提供8100戶家庭全年用電。除綠電還有許多綠色創新專案在進行，完成後奇美會有80%電力可自給自足，而且是來自潔淨能源，並達成36%的減碳效益。\\n\\r\\n奇美實業利用舊建築物與回收建材，打造以綠能及樹木為主題的「奇美綠能館」，展示綠能主題知識與園區樹木生態系介紹及奇美願景意涵，將定期舉辦科普夏令營，讓孩子了解綠色能源及永續環境的重要。'"
            ]
          },
          "metadata": {
            "tags": []
          },
          "execution_count": 58
        }
      ]
    },
    {
      "cell_type": "code",
      "metadata": {
        "id": "sDrwlraozNR6",
        "colab_type": "code",
        "colab": {}
      },
      "source": [
        "def getArticle(url):\n",
        "  res = requests.get(url)\n",
        "  soup = BeautifulSoup(res.text, 'lxml')\n",
        "  return soup.select_one('.content-box-article').text.strip()"
      ],
      "execution_count": 59,
      "outputs": []
    },
    {
      "cell_type": "code",
      "metadata": {
        "id": "lEFuNF-Szsk4",
        "colab_type": "code",
        "colab": {
          "base_uri": "https://localhost:8080/",
          "height": 387
        },
        "outputId": "8de173cd-521f-4a80-d91a-60cdd606ffd1"
      },
      "source": [
        "getArticle('https://www.re.org.tw/news/more.aspx?cid=198&id=3542')"
      ],
      "execution_count": 60,
      "outputs": [
        {
          "output_type": "execute_result",
          "data": {
            "application/vnd.google.colaboratory.intrinsic+json": {
              "type": "string"
            },
            "text/plain": [
              "'2020-07-17 11:09經濟日報 記者葉卉軒／台北即時報導\\n\\n\\n\\n\\n\\n\\n\\r\\n台電今（17）日宣布攜手民間企業打造「亞洲首例」的電力頻率調整儲能系統輔助服務，預計最快今年底可上線，此次是跳脫既有蓋電廠買機組的運轉思維，結合民間儲能系統協助電網頻率自動控制，有如蓋了座「虛擬電廠」，1秒可提供15MW（百萬瓦）電力，調頻效果比大型機組更快上3至5倍，讓供電更穩定，還可提升既有機組運轉效率、減少空汙排放。\\n\\r\\n此外，台電也同步推動「輔助服務交易試行平台」，預計明年第一季上線，未來將持續聯手民間擴大儲能系統電力輔助服務，持續提升供電穩定。\\n\\r\\n台電指出，為兼顧能源轉型、再生能源增加及民眾穩定用電，台電必須讓電力系統在用電、發電供給之間分秒保持動態平衡，隨時維持60赫茲（Hz）頻率，過去當有突發電力變化，皆由大型發電機組輔助頻率控制，如今台電則是攜手民間企業打造「亞洲首例」電力頻率調整儲能系統。\\n\\r\\n台電今年首度對外開辦「儲能自動頻率控制（AFC）調頻備轉輔助服務」採購，藉由集結民間多元儲能資源與智慧，促進電網系統效率、調度彈性再進化，期間吸引共30家業者投標，甫於7月決標，最終由5家廠商得標共15MW容量，其中儲能電池供應商包含：特斯拉（Tesla）、能元科技、三星及歐美等國內外大廠設備。\\n\\r\\n台電表示，電力需求瞬息萬變，電力調度不只是讓發電量大於用電量，還需配合如酷暑瞬間用電尖峰，或是太陽下山時太陽光電減少等多元情況變化即時升降載，維持系統頻率穩定，以免因系統失衡導致停電。\\n\\r\\n台電指出，既有電力系統調頻皆由台電各電廠發電機組輔助，並透過中央電力調度中心統一集中調度，在民間儲能系統加入輔助服務供應行列後，如同新增一座「虛擬電廠」，這些分散設置各地的併網型儲能系統可智慧輔助電網，自行追隨電力系統60赫茲頻率變化，1秒鐘內即可放出15MW電力，執行充放電工作，瞬間幫助頻率回穩，更可儲存2萬度電力。\\n\\r\\n而台電後續將依儲能系統每秒偵測頻率及反應情形，以及自動回傳的儲能系統狀態等電力輔助服務執行情況，給予服務費用。\\n\\r\\n台電表示，國際間英國曾以儲能系統協助電網頻率控制，去年8月大停電時發揮「神救援」效果，避免更大範圍、更長時間的停電發生。\\n\\r\\n台電此次儲能系統輔助服務則是亞洲首例，預計最快今年底可上線，加入後可為全國電網提供即時可用電力，還可協助設置所在地區穩定電壓，另也有助分散既有發電機組調度壓力，可穩定按既有排程發電，減少既有機組發電量變動，進而提升運轉效率，整體亦可減少空汙排放與發電成本。'"
            ]
          },
          "metadata": {
            "tags": []
          },
          "execution_count": 60
        }
      ]
    },
    {
      "cell_type": "markdown",
      "metadata": {
        "id": "Pm_6E02iz-Cn",
        "colab_type": "text"
      },
      "source": [
        "## 完整網路爬蟲"
      ]
    },
    {
      "cell_type": "code",
      "metadata": {
        "id": "6Vv0mVr80Q1C",
        "colab_type": "code",
        "colab": {}
      },
      "source": [
        "def getArticle(url):\n",
        "  res = requests.get(url)\n",
        "  soup = BeautifulSoup(res.text, 'lxml')\n",
        "  return soup.select_one('.content-box-article').text.strip()"
      ],
      "execution_count": null,
      "outputs": []
    },
    {
      "cell_type": "code",
      "metadata": {
        "id": "MMLRHWcwz1J6",
        "colab_type": "code",
        "colab": {}
      },
      "source": [
        "import requests\n",
        "from bs4 import BeautifulSoup\n",
        "res = requests.get('https://www.re.org.tw/news/default.aspx?cid=198')\n",
        "soup = BeautifulSoup(res.text, 'lxml')\n",
        "domain = 'https://www.re.org.tw'\n",
        "\n",
        "newsary = []\n",
        "for rec in soup.select('.content-box-list li a'):\n",
        "  title = rec.select_one('h3').text\n",
        "  dt   = rec.select_one('.date').text\n",
        "  link  = domain + rec.get('href')\n",
        "  content = getArticle(link)\n",
        "  newsary.append({'標題':title, '時間':dt, '連結':link, '內文': content})"
      ],
      "execution_count": 61,
      "outputs": []
    },
    {
      "cell_type": "code",
      "metadata": {
        "id": "lGTIB4I40qHE",
        "colab_type": "code",
        "colab": {
          "base_uri": "https://localhost:8080/",
          "height": 35
        },
        "outputId": "0b1a4e46-af76-4d0a-fa86-433a9db23d63"
      },
      "source": [
        "len(newsary)"
      ],
      "execution_count": 62,
      "outputs": [
        {
          "output_type": "execute_result",
          "data": {
            "text/plain": [
              "10"
            ]
          },
          "metadata": {
            "tags": []
          },
          "execution_count": 62
        }
      ]
    },
    {
      "cell_type": "code",
      "metadata": {
        "id": "fljLundd0wme",
        "colab_type": "code",
        "colab": {
          "base_uri": "https://localhost:8080/",
          "height": 107
        },
        "outputId": "0dea77f2-3cd2-4f20-b91b-57df7e33ada8"
      },
      "source": [
        "newsary[0]"
      ],
      "execution_count": 63,
      "outputs": [
        {
          "output_type": "execute_result",
          "data": {
            "text/plain": [
              "{'內文': '2020-08-11 14:44 聯合報 / 記者周宗禎／台南即時報導\\n\\n\\n\\n\\n\\r\\n奇美實業打造台南善化閒置工廠用地成「奇美綠能園區」，設置年發電量兩千萬度太陽能電廠，今天啟用。區內保存超過2萬2000棵樹是「工業、生態、景觀平衡的樹電共生園區」，年減碳達1萬2000公噸。\\n\\r\\n奇美強調，最大限度保留原生樹木與植被設置太陽能電廠，雖然「樹電共生」增加後續維運成本，犧牲20%以上發電效益，「成就最美的療癒電廠」。\\n\\r\\n奇美邀請台南市長黃偉哲、經濟部能源局長游振偉、工業局長呂正華與台電等單位首長，及建置廠商友達光電參與啟用儀式，「見證奇美六十周年獻給地球的永續禮物，為社會與環境貢獻的環保決心」。\\n\\r\\n奇美實業董事長許春華說，這座園區誕生充份實踐奇美對環境的永續承諾，也讓奇美在響應低碳城市與再生能源發展上盡一分心力。推動綠能發展不但是善盡企業社會責任，更是對企業永續競爭力的投資。將走入下一個60年的奇美，希望透過綠能園區傳遞奇美的Clean & Green綠色願景，並投入更多綠色創新，力求把潔淨與綠色元素貫穿在企業每個環節中。\\n\\r\\n他說，太陽能電廠設計初始即規畫三個樹林保留區並設置環廠行道樹，也將需移植的樹木轉贈關係企業，堅決不傷害任何一棵樹。電廠在建置時更放棄傳統的混凝土基樁，而採用鋼樁工法，以及全區地面不鋪柏油。雖然增加了投資成本及後續維運成本，但奇美堅持要讓土地呼吸，讓未來土地復育零負擔。奇美實業充分善用綠色科技樹電共生，透過這座有別於傳統、花木扶疏的綠能電廠，療癒自然，也療癒人心。\\n\\r\\n奇美實業總經理趙令瑜表示，奇美目前綠電建置容量已經達22MW，相當提供8100戶家庭全年用電。除綠電還有許多綠色創新專案在進行，完成後奇美會有80%電力可自給自足，而且是來自潔淨能源，並達成36%的減碳效益。\\n\\r\\n奇美實業利用舊建築物與回收建材，打造以綠能及樹木為主題的「奇美綠能館」，展示綠能主題知識與園區樹木生態系介紹及奇美願景意涵，將定期舉辦科普夏令營，讓孩子了解綠色能源及永續環境的重要。',\n",
              " '時間': '2020/8/12',\n",
              " '標題': '樹電共生！奇美太陽能電廠今啟用 年發電兩千萬度',\n",
              " '連結': 'https://www.re.org.tw/news/more.aspx?cid=198&id=3574'}"
            ]
          },
          "metadata": {
            "tags": []
          },
          "execution_count": 63
        }
      ]
    },
    {
      "cell_type": "code",
      "metadata": {
        "id": "Jfiy7X2A0yBe",
        "colab_type": "code",
        "colab": {}
      },
      "source": [
        "import pandas\n",
        "newsdf = pandas.DataFrame(newsary)"
      ],
      "execution_count": 64,
      "outputs": []
    },
    {
      "cell_type": "code",
      "metadata": {
        "id": "ZDZjcIR20-so",
        "colab_type": "code",
        "colab": {}
      },
      "source": [
        "newsdf.to_excel('news.xlsx')"
      ],
      "execution_count": 66,
      "outputs": []
    },
    {
      "cell_type": "code",
      "metadata": {
        "id": "I5Tq3rAn0_PQ",
        "colab_type": "code",
        "colab": {}
      },
      "source": [
        ""
      ],
      "execution_count": null,
      "outputs": []
    }
  ]
}